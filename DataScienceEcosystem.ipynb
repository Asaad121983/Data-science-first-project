{
 "cells": [
  {
   "cell_type": "markdown",
   "id": "a412ed3d",
   "metadata": {},
   "source": [
    "# Data Science Tools and Ecosystem"
   ]
  },
  {
   "cell_type": "markdown",
   "id": "25b13518",
   "metadata": {},
   "source": [
    "## In this notebook, Data Science Tools and Ecosystem are summarized."
   ]
  },
  {
   "cell_type": "markdown",
   "id": "9f59b56e",
   "metadata": {},
   "source": [
    "### Some of the popular languages that Data Scientists use are:\n",
    "    1- python\n",
    "    2- R\n",
    "    3- julia"
   ]
  },
  {
   "cell_type": "markdown",
   "id": "1bc5239f",
   "metadata": {},
   "source": [
    "### Some of the commonly used libraries used by Data Scientists include:\n",
    "    1- Numpy\n",
    "    2- Pandas\n",
    "    3- Matplotlib"
   ]
  },
  {
   "cell_type": "markdown",
   "id": "fa36648a",
   "metadata": {},
   "source": [
    "| Data Science Tools |\n",
    "|--------------------|\n",
    "| Jupyter Notebook   |\n",
    "| RStudio            |\n",
    "| Apache Zeppelin    |\n"
   ]
  },
  {
   "cell_type": "markdown",
   "id": "92c3b6f2",
   "metadata": {},
   "source": [
    "### Below are a few examples of evaluating arithmetic expressions in Python.\n",
    "\n",
    "- **Addition:** `3 + 4` results in `7`.\n",
    "- **Subtraction:** `8 - 5` results in `3`.\n",
    "- **Multiplication:** `6 * 7` results in `42`.\n",
    "- **Division:** `10 / 2` results in `5`.\n",
    "- **Exponentiation:** `2 ** 3` results in `8`.\n",
    "- **Modulus:** `9 % 4` results in `1`.\n"
   ]
  },
  {
   "cell_type": "code",
   "execution_count": 3,
   "id": "8d5ad8d2",
   "metadata": {},
   "outputs": [
    {
     "name": "stdout",
     "output_type": "stream",
     "text": [
      "17\n"
     ]
    }
   ],
   "source": [
    "# This is a simple arithmetic expression to multiply then add integers\n",
    "result = (3 * 4) + 5\n",
    "print(result)\n"
   ]
  },
  {
   "cell_type": "code",
   "execution_count": 4,
   "id": "095b4ce5",
   "metadata": {},
   "outputs": [
    {
     "name": "stdout",
     "output_type": "stream",
     "text": [
      "3.3333333333333335\n"
     ]
    }
   ],
   "source": [
    "# This will convert 200 minutes to hours by dividing by 60\n",
    "hours = 200 / 60\n",
    "print(hours)\n"
   ]
  },
  {
   "cell_type": "markdown",
   "id": "88de70b6",
   "metadata": {},
   "source": [
    "**Objectives:**\n",
    "\n",
    "- List popular languages for Data Science.\n",
    "- Demonstrate how to evaluate arithmetic expressions in Python.\n",
    "- Explain the conversion of minutes to hours using Python.\n",
    "- Create tables in markdown to organize and present data effectively.\n",
    "- Introduce various open-source tools used in Data Science environments.\n"
   ]
  },
  {
   "cell_type": "markdown",
   "id": "7ac6bce3",
   "metadata": {},
   "source": [
    "## Author\n",
    "Asaad Elsaadany Bedeir\n"
   ]
  },
  {
   "cell_type": "code",
   "execution_count": null,
   "id": "0c69d3d6",
   "metadata": {},
   "outputs": [],
   "source": []
  }
 ],
 "metadata": {
  "kernelspec": {
   "display_name": "Python 3 (ipykernel)",
   "language": "python",
   "name": "python3"
  },
  "language_info": {
   "codemirror_mode": {
    "name": "ipython",
    "version": 3
   },
   "file_extension": ".py",
   "mimetype": "text/x-python",
   "name": "python",
   "nbconvert_exporter": "python",
   "pygments_lexer": "ipython3",
   "version": "3.11.5"
  }
 },
 "nbformat": 4,
 "nbformat_minor": 5
}
